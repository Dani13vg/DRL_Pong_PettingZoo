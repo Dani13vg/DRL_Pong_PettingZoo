{
 "cells": [
  {
   "cell_type": "markdown",
   "metadata": {
    "id": "7xrRvDDNLUxK"
   },
   "source": [
    "# Practical Activity 2 (**PRA2**)\n",
    "\n",
    "## Evaluable Practical Exercise\n",
    "\n",
    "<u>General considerations</u>:\n",
    "\n",
    "- The proposed solution cannot use methods, functions or parameters declared **_deprecated_** in future versions.\n",
    "- This activity must be carried out on a **strictly individual** basis. Any indication of copying will be penalized with a failure for all parties involved and the possible negative evaluation of the subject in its entirety.\n",
    "- It is necessary for the student to indicate **all the sources** that she/he has used to carry out the PRA. If not, the student will be considered to have committed plagiarism, being penalized with a failure and the possible negative evaluation of the subject in its entirety.\n",
    "\n",
    "<u>Delivery format</u>:\n",
    "\n",
    "- Some exercises may require several minutes of execution, so the delivery must be done in **Notebook format** and in **HTML format**, where the code, results and comments of each exercise can be seen. You can export the notebook to HTML from the menu File $\\to$ Download as $\\to$ HTML.\n",
    "- There is a special type of cell to hold text. This type of cell will be very useful to answer the different theoretical questions posed throughout the activity. To change the cell type to this type, in the menu: Cell $\\to$ Cell Type $\\to$ Markdown."
   ]
  },
  {
   "cell_type": "markdown",
   "metadata": {},
   "source": [
    "<div class=\"alert alert-block alert-info\">\n",
    "<strong>Name and surname:</strong>\n",
    "</div>"
   ]
  },
  {
   "cell_type": "markdown",
   "metadata": {
    "id": "gee4aY31LUxL"
   },
   "source": [
    "## Introduction\n",
    "\n",
    "The [PettingZoo](https://pettingzoo.farama.org/index.html) is a simple, pythonic interface capable of representing **general multi-agent reinforcement learning** (MARL) problems. PettingZoo includes a wide variety of reference environments, helpful utilities, and tools for creating your own custom environments.\n",
    "\n",
    "This activity uses the **AEC API**, which supports sequential turn-based environments.\n",
    "\n",
    "PettingZoo could be combined with [Stable Baselines 3](https://stable-baselines3.readthedocs.io/en/master/) or any other library to train the models."
   ]
  },
  {
   "cell_type": "markdown",
   "metadata": {},
   "source": [
    "## Required libraries and dataset\n",
    "\n",
    "The following libraries are required to properly run this activity: \n",
    "\n",
    "> !pip install swig\n",
    "\n",
    "> !pip install box2d-py\n",
    "\n",
    "> !pip install gymnasium\n",
    "\n",
    "> !pip install \"gymnasium[atari,accept-rom-license]\"\n",
    "\n",
    "> !pip install \"stable-baselines3[extra]\"\n",
    "\n",
    "> !pip install \"pettingzoo[all]\"\n",
    "\n",
    "> !pip install supersuit\n",
    "\n",
    "**Notes**:\n",
    "- **AutoROM** must be installed on the Python environment: `pip install \"autorom[accept-rom-license]\"` and then execute `AutoROM` from the command line."
   ]
  },
  {
   "cell_type": "markdown",
   "metadata": {
    "id": "f8M-9H1uaYHe"
   },
   "source": [
    "## Part 1. The Pong Game\n",
    "\n",
    "Train an agent to play the [Pong](https://pettingzoo.farama.org/environments/atari/pong/) game.\n",
    "\n",
    "<u>Questions</u> (**6 points**):\n",
    "1. **Select** (at least) two RL models to play this game.\n",
    "2. Tune the **parameters** to optimize the agent:\n",
    "- Indicate the range of the parameters and the results obtained for each one.\n",
    "- Compare them and select and justify your decision.\n",
    "3. **Train** the agent with these parameters:\n",
    "- Report the results of your agent in a single-player environment (for instance, [Pong](https://gymnasium.farama.org/environments/atari/pong/) from Gymnasium or Gym)\n",
    "4. **Export** your trained agent to a file\n",
    "- [Save and load](https://stable-baselines3.readthedocs.io/en/master/guide/save_format.html) from SB3 could be used.\n",
    "- Or include the code needed to load and run your trained agent."
   ]
  },
  {
   "cell_type": "markdown",
   "metadata": {},
   "source": [
    "### Configuring the environment\n",
    "\n",
    "The [Supersuit Wrappers](https://pettingzoo.farama.org/api/wrappers/supersuit_wrappers/) are used to preprocess the data in our environment.\n",
    "\n",
    "Specifically, the environment uses the following wrappers:\n",
    "1. The `color_reduction_v0` wrapper with `mode='B'` parameter.\n",
    "2. The `resize_v1` with parameters `x_size=84` and `y_size=84`.\n",
    "3. The `frame_stack_v1` wrapper with params `num_frames=4`.\n",
    "4. The `dtype_v0` with param  `dtype=np.float32`.\n",
    "5. The `normalize_obs_v0` wrapper with parameters `env_min=0`and `env_max=1`."
   ]
  },
  {
   "cell_type": "markdown",
   "metadata": {},
   "source": [
    "#### The observation Space\n",
    "\n",
    "Therefore, the **observation** from the environment has the shape:\n",
    "- (84 $\\times$ 84 $\\times$ 4)\n",
    "\n",
    "So, each image looks like the following one:"
   ]
  },
  {
   "cell_type": "markdown",
   "metadata": {},
   "source": [
    "<p style=\"text-align:center;\"><img src=\"data:image/png;base64,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\" /></p>"
   ]
  },
  {
   "cell_type": "markdown",
   "metadata": {},
   "source": [
    "#### The Action Space\n",
    "\n",
    "As described in the [Pong](https://pettingzoo.farama.org/environments/atari/pong/) page, action is `Discrete(6)`, so:\n",
    "- Action shape is _(1,)_\n",
    "- Action values are in range [0,5]"
   ]
  },
  {
   "cell_type": "markdown",
   "metadata": {},
   "source": [
    "#### Testing the Agent\n",
    "\n",
    "Your agent will be tested, against other agents, in an environment similar to the following one:\n",
    "\n",
    "**Notes**:\n",
    "- It is important to consider that the agent will have to play on **both sides of the board**. That is, he must be able to play on the **right side** (by default in Gymnasium or Gym), but also on the **left side**.\n",
    "- - You can provide a **single model** to play both sides or alternatively, you can provide **two models**, one model for each side of the board."
   ]
  },
  {
   "cell_type": "code",
   "execution_count": null,
   "metadata": {},
   "outputs": [],
   "source": [
    "import supersuit as ss\n",
    "from pettingzoo.atari import pong_v3\n",
    "\n",
    "# Pre-process using SuperSuit\n",
    "env = ss.color_reduction_v0(env, mode=\"B\")\n",
    "env = ss.resize_v1(env, x_size=84, y_size=84)\n",
    "env = ss.frame_stack_v1(env, 4)\n",
    "env = ss.dtype_v0(env, dtype=np.float32)\n",
    "env = ss.normalize_obs_v0(env, env_min=0, env_max=1)\n",
    "\n",
    "# Load the agents\n",
    "model1 = <LOAD MODEL 1>\n",
    "model2 = <LOAD MODEL 2>\n",
    "\n",
    "rewards = {agent: 0 for agent in env.possible_agents}\n",
    "\n",
    "# We evaluate here using an AEC environments\n",
    "env.reset(seed=1234)\n",
    "env.action_space(env.possible_agents[0]).seed(i)\n",
    "\n",
    "for agent in env.agent_iter():\n",
    "    obs, reward, termination, truncation, info = env.last()\n",
    "\n",
    "    for a in env.agents:\n",
    "        rewards[a] += env.rewards[a]\n",
    "\n",
    "    if termination or truncation:\n",
    "        break\n",
    "    else:\n",
    "        if agent == env.possible_agents[0]:\n",
    "            act = model1.predict(obs)\n",
    "        else:\n",
    "            act = model2.predict(obs)\n",
    "    env.step(act)\n",
    "\n",
    "env.close()"
   ]
  },
  {
   "cell_type": "markdown",
   "metadata": {},
   "source": [
    "## Part 2. Playing at Pong\n",
    "\n",
    "Using the model (or models) trained in the previous exercise, answer the following questions:\n",
    "\n",
    "<u>Questions</u> (**2 points**):\n",
    "1. **Test** your model (or models) in 100 episodes of Pong (using the _**PettingZoo** environment_)\n",
    "- Report the results (win rates, rewards, etc)\n",
    "2. Export one video (__mp4__ format) of a whole episode"
   ]
  },
  {
   "cell_type": "code",
   "execution_count": null,
   "metadata": {},
   "outputs": [],
   "source": []
  },
  {
   "cell_type": "markdown",
   "metadata": {},
   "source": [
    "## Part 3. Pong World Tournament\n",
    "\n",
    "Welcome to the Pong World Tournament!\n",
    "\n",
    "The rules are the following ones:\n",
    "- Players will be assigned to a slot randomly (Player 1..8)\n",
    "- Each match consists of 5 independent games, where players take turns on which side of the board.\n",
    "- The winner will be the one who wins 3 or more games.\n",
    "- The winner will move on to the next phase and play against the next opponent.\n",
    "- Players who reach the **semifinals** will receive **1 point** in this exercise.\n",
    "- Players who reach the **final** will receive **2 points** in this exercise.\n",
    "- The **winner** will receive 2 points plus an extra point, i.e. he or she will receive **3 points**."
   ]
  },
  {
   "cell_type": "markdown",
   "metadata": {},
   "source": [
    "<p style=\"text-align:center;\"><img src=\"data:image/png;base64,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\" /></p>"
   ]
  },
  {
   "cell_type": "code",
   "execution_count": null,
   "metadata": {},
   "outputs": [],
   "source": []
  }
 ],
 "metadata": {
  "colab": {
   "provenance": []
  },
  "kernelspec": {
   "display_name": "Python 3 (ipykernel)",
   "language": "python",
   "name": "python3"
  },
  "language_info": {
   "codemirror_mode": {
    "name": "ipython",
    "version": 3
   },
   "file_extension": ".py",
   "mimetype": "text/x-python",
   "name": "python",
   "nbconvert_exporter": "python",
   "pygments_lexer": "ipython3",
   "version": "3.8.18"
  }
 },
 "nbformat": 4,
 "nbformat_minor": 4
}
